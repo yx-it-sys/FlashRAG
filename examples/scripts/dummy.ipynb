{
 "cells": [
  {
   "cell_type": "code",
   "execution_count": 1,
   "id": "d17aed8f",
   "metadata": {},
   "outputs": [
    {
     "name": "stderr",
     "output_type": "stream",
     "text": [
      "/home/vipuser/miniconda3/envs/rag/lib/python3.11/site-packages/tqdm/auto.py:21: TqdmWarning: IProgress not found. Please update jupyter and ipywidgets. See https://ipywidgets.readthedocs.io/en/stable/user_install.html\n",
      "  from .autonotebook import tqdm as notebook_tqdm\n"
     ]
    }
   ],
   "source": [
    "import json\n",
    "from datasets import load_dataset\n",
    "import os\n",
    "from tqdm import tqdm"
   ]
  },
  {
   "cell_type": "code",
   "execution_count": 2,
   "id": "6f0e425e",
   "metadata": {},
   "outputs": [],
   "source": [
    "num_samples = 100\n",
    "seed = 42\n",
    "full_dataset = load_dataset(\"lmms-lab/OK-VQA\", split=\"val2014\")\n",
    "full_dataset = full_dataset.shuffle(seed=seed)\n",
    "dummy_subset = full_dataset.select(range(num_samples))\n",
    "images_ouput_dir = \"data/images/val2014\"\n",
    "annotations_dir = os.path.dirname(\"data/annotations/okvqa_dummy_100.json\")\n",
    "\n",
    "os.makedirs(annotations_dir, exist_ok=True)\n",
    "os.makedirs(images_ouput_dir, exist_ok=True)\n",
    "\n",
    "processed_data = []\n",
    "for item in dummy_subset:\n",
    "    clean_item = {\n",
    "        \"id\": item[\"question_id\"],\n",
    "        \"question\": item[\"question\"],\n",
    "        \"image_id\": item[\"question_id\"],\n",
    "        \"golden_answers\": item[\"answers\"]\n",
    "    }\n",
    "    processed_data.append(clean_item)\n",
    "\n",
    "    image_obj = item[\"image\"]\n",
    "    image_filename = f\"{item['question_id']}.jpg\"\n",
    "    save_path = os.path.join(images_ouput_dir, image_filename)\n",
    "\n",
    "    if not os.path.exists(save_path):\n",
    "        try:\n",
    "            image_obj.save(save_path, 'JPEG')\n",
    "        except Exception as e:\n",
    "            tqdm.write(f\"Could not save image {save_path}. Error: {e}\")\n"
   ]
  },
  {
   "cell_type": "code",
   "execution_count": 4,
   "id": "73f9371f",
   "metadata": {},
   "outputs": [],
   "source": [
    "output_filename = \"okvqa_dummy_100.json\"\n",
    "with open(output_filename, 'w', encoding='utf-8') as f:\n",
    "    json.dump(processed_data, f, indent=4, ensure_ascii=False)"
   ]
  },
  {
   "cell_type": "code",
   "execution_count": 1,
   "id": "667a237c",
   "metadata": {},
   "outputs": [],
   "source": [
    "import json\n",
    "\n",
    "def convert_json_to_jsonl(input_file_path, output_file_path):\n",
    "    \"\"\"\n",
    "    Reads a standard JSON file (expected to be a list of objects) and\n",
    "    writes it to a JSON Lines (.jsonl) file.\n",
    "\n",
    "    Args:\n",
    "        input_file_path (str): The path to the input .json file.\n",
    "        output_file_path (str): The path to the output .jsonl file.\n",
    "    \"\"\"\n",
    "    try:\n",
    "        with open(input_file_path, 'r', encoding='utf-8') as infile:\n",
    "            # 1. 一次性读取整个JSON文件，它会被解析成一个Python列表\n",
    "            data = json.load(infile)\n",
    "\n",
    "        # 确保输入文件确实是一个列表\n",
    "        if not isinstance(data, list):\n",
    "            print(f\"Error: The input JSON file '{input_file_path}' does not contain a list of objects.\")\n",
    "            return\n",
    "\n",
    "        with open(output_file_path, 'w', encoding='utf-8') as outfile:\n",
    "            # 2. 遍历列表中的每一个对象（字典）\n",
    "            for entry in data:\n",
    "                # 3. 将每个对象转换成一个JSON格式的字符串\n",
    "                json_string = json.dumps(entry, ensure_ascii=False)\n",
    "                \n",
    "                # 4. 将这个字符串写入新文件，并在末尾添加一个换行符\n",
    "                outfile.write(json_string + '\\n')\n",
    "        \n",
    "        print(f\"Successfully converted '{input_file_path}' to '{output_file_path}'.\")\n",
    "        print(f\"Total entries written: {len(data)}\")\n",
    "\n",
    "    except FileNotFoundError:\n",
    "        print(f\"Error: The file '{input_file_path}' was not found.\")\n",
    "    except json.JSONDecodeError:\n",
    "        print(f\"Error: The file '{input_file_path}' is not a valid JSON file.\")\n",
    "    except Exception as e:\n",
    "        print(f\"An unexpected error occurred: {e}\")"
   ]
  },
  {
   "cell_type": "code",
   "execution_count": 2,
   "id": "9e4fea08",
   "metadata": {},
   "outputs": [
    {
     "name": "stdout",
     "output_type": "stream",
     "text": [
      "Successfully converted 'data/okvqa_dummy_100/dev.json' to 'data/okvqa_dummy_100/dev.jsonl'.\n",
      "Total entries written: 100\n"
     ]
    }
   ],
   "source": [
    "input_file = \"data/okvqa_dummy_100/dev.json\"\n",
    "output_file = \"data/okvqa_dummy_100/dev.jsonl\"\n",
    "\n",
    "convert_json_to_jsonl(input_file, output_file)"
   ]
  },
  {
   "cell_type": "code",
   "execution_count": null,
   "id": "77c1e46e",
   "metadata": {},
   "outputs": [],
   "source": []
  }
 ],
 "metadata": {
  "kernelspec": {
   "display_name": "rag",
   "language": "python",
   "name": "python3"
  },
  "language_info": {
   "codemirror_mode": {
    "name": "ipython",
    "version": 3
   },
   "file_extension": ".py",
   "mimetype": "text/x-python",
   "name": "python",
   "nbconvert_exporter": "python",
   "pygments_lexer": "ipython3",
   "version": "3.11.13"
  }
 },
 "nbformat": 4,
 "nbformat_minor": 5
}
